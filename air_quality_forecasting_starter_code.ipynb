{
  "nbformat": 4,
  "nbformat_minor": 0,
  "metadata": {
    "colab": {
      "provenance": [],
      "include_colab_link": true
    },
    "kernelspec": {
      "name": "python3",
      "display_name": "Python 3"
    },
    "language_info": {
      "name": "python"
    }
  },
  "cells": [
    {
      "cell_type": "markdown",
      "metadata": {
        "id": "view-in-github",
        "colab_type": "text"
      },
      "source": [
        "<a href=\"https://colab.research.google.com/github/l-isaro/air-pollution-beinjing/blob/main/air_quality_forecasting_starter_code.ipynb\" target=\"_parent\"><img src=\"https://colab.research.google.com/assets/colab-badge.svg\" alt=\"Open In Colab\"/></a>"
      ]
    },
    {
      "cell_type": "markdown",
      "source": [
        "# Beijing Air Quality Forecasting Starter Notebook"
      ],
      "metadata": {
        "id": "iTsEYdtov6tp"
      }
    },
    {
      "cell_type": "code",
      "source": [
        "# Import necessary libraries\n",
        "import pandas as pd\n",
        "import numpy as np\n",
        "import matplotlib.pyplot as plt\n",
        "from tensorflow import keras\n",
        "from tensorflow.keras import layers\n",
        "from tensorflow.keras.models import Sequential\n",
        "from tensorflow.keras.layers import LSTM, Dense\n",
        "from sklearn.preprocessing import StandardScaler\n",
        "from sklearn.metrics import mean_squared_error\n",
        "import tensorflow as tf\n",
        "from math import sqrt"
      ],
      "metadata": {
        "id": "nWkSHhqXrCqF"
      },
      "execution_count": 36,
      "outputs": []
    },
    {
      "cell_type": "code",
      "source": [
        "# Load the datasets\n",
        "# Ensure train.csv and test.csv are saved in your Google Drive in the same folder.\n",
        "# Replace the file paths below with the actual paths to your dataset.\n",
        "train = pd.read_csv('data/train.csv')\n",
        "test = pd.read_csv('data/test.csv')\n"
      ],
      "metadata": {
        "id": "gxW-6b_jrLAL"
      },
      "execution_count": 37,
      "outputs": []
    },
    {
      "cell_type": "markdown",
      "source": [
        "# Explore the training data\n",
        "\n",
        "In this sections explore your dataset with appropiate statistics and visualisations to understand your better. Ensure that you explain output of every code cell and what it entails."
      ],
      "metadata": {
        "id": "cRse3uqRrft5"
      }
    },
    {
      "cell_type": "code",
      "source": [
        "# Data shapes and types\n",
        "print(\"Train shape:\", train.shape)\n",
        "print(\"Test shape:\", test.shape)\n",
        "print(\"\\nTrain data types:\\n\", train.dtypes)\n",
        "print(\"\\nTest data types:\\n\", test.dtypes)\n",
        "\n",
        "# Summary stats for train\n",
        "print(\"\\nTrain summary:\\n\", train.describe())\n",
        "\n",
        "# Missing values\n",
        "print(\"\\nMissing in train:\\n\", train.isna().sum())\n",
        "print(\"\\nMissing in test:\\n\", test.isna().sum())\n",
        "\n",
        "# Convert 'datetime' to datetime type\n",
        "train['datetime'] = pd.to_datetime(train['datetime'])\n",
        "test['datetime'] = pd.to_datetime(test['datetime'])\n",
        "\n",
        "# Check time continuity\n",
        "train_time_diff = train['datetime'].diff().dropna()\n",
        "test_time_diff = test['datetime'].diff().dropna()\n",
        "print(\"\\nTrain time gaps unique:\", train_time_diff.unique())\n",
        "print(\"Test time gaps unique:\", test_time_diff.unique())\n",
        "print(\"Last train datetime:\", train['datetime'].max())\n",
        "print(\"First test datetime:\", test['datetime'].min())"
      ],
      "metadata": {
        "colab": {
          "base_uri": "https://localhost:8080/"
        },
        "id": "3R74CEBFrYok",
        "outputId": "0ecd41b4-d022-4a84-8d5f-c795a3f8c8ab"
      },
      "execution_count": 38,
      "outputs": [
        {
          "output_type": "stream",
          "name": "stdout",
          "text": [
            "Train shape: (30676, 12)\n",
            "Test shape: (13148, 11)\n",
            "\n",
            "Train data types:\n",
            " No            int64\n",
            "DEWP        float64\n",
            "TEMP        float64\n",
            "PRES        float64\n",
            "Iws         float64\n",
            "Is          float64\n",
            "Ir          float64\n",
            "datetime     object\n",
            "cbwd_NW     float64\n",
            "cbwd_SE     float64\n",
            "cbwd_cv     float64\n",
            "pm2.5       float64\n",
            "dtype: object\n",
            "\n",
            "Test data types:\n",
            " No            int64\n",
            "DEWP        float64\n",
            "TEMP        float64\n",
            "PRES        float64\n",
            "Iws         float64\n",
            "Is          float64\n",
            "Ir          float64\n",
            "datetime     object\n",
            "cbwd_NW     float64\n",
            "cbwd_SE     float64\n",
            "cbwd_cv     float64\n",
            "dtype: object\n",
            "\n",
            "Train summary:\n",
            "                  No          DEWP          TEMP          PRES           Iws  \\\n",
            "count  30676.000000  30676.000000  30676.000000  30676.000000  30676.000000   \n",
            "mean   15338.500000     -0.029431     -0.062712      0.013612      0.030542   \n",
            "std     8855.542765      0.994087      1.015193      1.008991      1.018337   \n",
            "min        1.000000     -2.135153     -2.578070     -2.380821     -0.468688   \n",
            "25%     7669.750000     -0.888034     -0.938521     -0.822670     -0.441894   \n",
            "50%    15338.500000     -0.056622      0.045209     -0.043595     -0.352512   \n",
            "75%    23007.250000      0.913358      0.864984      0.832865      0.005216   \n",
            "max    30676.000000      1.814055      2.340578      2.877939     11.231956   \n",
            "\n",
            "                 Is            Ir       cbwd_NW       cbwd_SE       cbwd_cv  \\\n",
            "count  30676.000000  30676.000000  30676.000000  30676.000000  30676.000000   \n",
            "mean       0.016992      0.011253      0.016193      0.005833     -0.025008   \n",
            "std        1.087278      1.063811      1.006001      1.001847      0.982122   \n",
            "min       -0.069353     -0.137667     -0.690542     -0.732019     -0.522096   \n",
            "25%       -0.069353     -0.137667     -0.690542     -0.732019     -0.522096   \n",
            "50%       -0.069353     -0.137667     -0.690542     -0.732019     -0.522096   \n",
            "75%       -0.069353     -0.137667      1.448138      1.366085     -0.522096   \n",
            "max       35.439859     25.288745      1.448138      1.366085      1.915355   \n",
            "\n",
            "              pm2.5  \n",
            "count  28755.000000  \n",
            "mean     100.793427  \n",
            "std       93.144433  \n",
            "min        0.000000  \n",
            "25%       29.000000  \n",
            "50%       75.000000  \n",
            "75%      142.000000  \n",
            "max      994.000000  \n",
            "\n",
            "Missing in train:\n",
            " No             0\n",
            "DEWP           0\n",
            "TEMP           0\n",
            "PRES           0\n",
            "Iws            0\n",
            "Is             0\n",
            "Ir             0\n",
            "datetime       0\n",
            "cbwd_NW        0\n",
            "cbwd_SE        0\n",
            "cbwd_cv        0\n",
            "pm2.5       1921\n",
            "dtype: int64\n",
            "\n",
            "Missing in test:\n",
            " No          0\n",
            "DEWP        0\n",
            "TEMP        0\n",
            "PRES        0\n",
            "Iws         0\n",
            "Is          0\n",
            "Ir          0\n",
            "datetime    0\n",
            "cbwd_NW     0\n",
            "cbwd_SE     0\n",
            "cbwd_cv     0\n",
            "dtype: int64\n",
            "\n",
            "Train time gaps unique: <TimedeltaArray>\n",
            "['0 days 01:00:00']\n",
            "Length: 1, dtype: timedelta64[ns]\n",
            "Test time gaps unique: <TimedeltaArray>\n",
            "['0 days 01:00:00']\n",
            "Length: 1, dtype: timedelta64[ns]\n",
            "Last train datetime: 2013-07-02 03:00:00\n",
            "First test datetime: 2013-07-02 04:00:00\n"
          ]
        }
      ]
    },
    {
      "cell_type": "code",
      "source": [
        "# --- Imports & setup\n",
        "import pandas as pd\n",
        "import numpy as np\n",
        "import matplotlib.pyplot as plt\n",
        "import seaborn as sns\n",
        "\n",
        "from statsmodels.tsa.seasonal import STL  # more robust than seasonal_decompose for irregular freq\n",
        "\n",
        "sns.set_context(\"talk\")\n",
        "sns.set_style(\"whitegrid\")\n",
        "\n",
        "# --- 0) Ensure datetime & sorting\n",
        "df = train.copy()\n",
        "if not np.issubdtype(df[\"datetime\"].dtype, np.datetime64):\n",
        "    df[\"datetime\"] = pd.to_datetime(df[\"datetime\"], errors=\"coerce\")\n",
        "df = df.sort_values(\"datetime\").reset_index(drop=True)\n",
        "\n",
        "# --- 1) Set index for all time-based plots\n",
        "df = df.set_index(\"datetime\")\n",
        "\n",
        "# --- 2) Keep an analysis copy with forward-fill (viz only)\n",
        "viz = df.ffill()\n",
        "\n",
        "# --- 3) PM2.5 time series\n",
        "ax = viz[\"pm2.5\"].plot(figsize=(12, 6), title=\"PM2.5 Over Time\")\n",
        "ax.set_ylabel(\"PM2.5 (original units)\")\n",
        "plt.tight_layout()\n",
        "plt.show()\n",
        "\n",
        "# --- 4) Feature distributions (only numeric columns; skip all-NaN)\n",
        "num_cols = viz.select_dtypes(include=[np.number]).columns.tolist()\n",
        "if len(num_cols) > 0:\n",
        "    viz[num_cols].hist(figsize=(12, 10), bins=20)\n",
        "    plt.suptitle(\"Feature Distributions\", y=1.02)\n",
        "    plt.tight_layout()\n",
        "    plt.show()\n",
        "\n",
        "# --- 5) Correlation heatmap (drop obvious ID-like cols if present)\n",
        "drop_maybe = [c for c in [\"No\"] if c in viz.columns]\n",
        "corr = viz.drop(columns=drop_maybe, errors=\"ignore\").select_dtypes(include=[np.number]).corr()\n",
        "\n",
        "# Show only one triangle for readability\n",
        "mask = np.triu(np.ones_like(corr, dtype=bool))\n",
        "plt.figure(figsize=(10, 8))\n",
        "sns.heatmap(corr, mask=mask, annot=True, fmt=\".2f\", linewidths=0.5, square=True, cbar_kws={\"shrink\": .75})\n",
        "plt.title(\"Correlation Matrix\")\n",
        "plt.tight_layout()\n",
        "plt.show()\n",
        "\n",
        "# --- 6) Boxplots (numeric features)\n",
        "if len(num_cols) > 0:\n",
        "    # Using seaborn for a single, neat figure\n",
        "    plt.figure(figsize=(12, 6))\n",
        "    sns.boxplot(data=viz[num_cols], orient=\"h\", showfliers=True)\n",
        "    plt.title(\"Boxplots for Numerical Features\")\n",
        "    plt.tight_layout()\n",
        "    plt.show()\n",
        "\n",
        "# --- 7) Seasonal structure (STL)\n",
        "# Make sure we have regular hourly data; if not, resample to hourly\n",
        "if viz.index.inferred_freq is None:\n",
        "    # if timestamps are near-hourly, round then resample; otherwise just resample\n",
        "    pm25_hourly = viz[\"pm2.5\"].resample(\"H\").mean().interpolate(limit_direction=\"both\")\n",
        "else:\n",
        "    pm25_hourly = viz[\"pm2.5\"]\n",
        "\n",
        "# Choose a sensible period:\n",
        "# - daily seasonality for hourly data = 24\n",
        "# - weekly seasonality for hourly data = 24*7\n",
        "period = 24 * 7  # weekly pattern is often meaningful for air quality\n",
        "\n",
        "pm25_clean = pm25_hourly.dropna()\n",
        "if pm25_clean.size >= 2 * period:\n",
        "    stl = STL(pm25_clean, period=period, robust=True)\n",
        "    res = stl.fit()\n",
        "    res.plot()\n",
        "    plt.suptitle(\"PM2.5 STL Decomposition (Trend, Seasonal, Residual)\")\n",
        "    plt.tight_layout()\n",
        "    plt.show()\n",
        "else:\n",
        "    print(f\"Not enough data for STL with period={period}. Need at least {2*period} points; have {pm25_clean.size}.\")\n"
      ],
      "metadata": {
        "id": "vUwKhbh4uoft"
      },
      "execution_count": null,
      "outputs": []
    },
    {
      "cell_type": "code",
      "source": [
        "train.columns"
      ],
      "metadata": {
        "colab": {
          "base_uri": "https://localhost:8080/"
        },
        "id": "-om6hH_RtG8Z",
        "outputId": "8fefc873-d80f-4b45-ead2-89bbfc8d4d62"
      },
      "execution_count": null,
      "outputs": [
        {
          "output_type": "execute_result",
          "data": {
            "text/plain": [
              "Index(['No', 'DEWP', 'TEMP', 'PRES', 'Iws', 'Is', 'Ir', 'datetime', 'cbwd_NW',\n",
              "       'cbwd_SE', 'cbwd_cv', 'pm2.5'],\n",
              "      dtype='object')"
            ]
          },
          "metadata": {},
          "execution_count": 8
        }
      ]
    },
    {
      "cell_type": "markdown",
      "source": [
        "# Handle missing values\n",
        "\n",
        "\n",
        "- Check the dataset for missing values and decide how to handle them.\n",
        "- In this example, missing values are filled with the mean. You can experiment with other strategies."
      ],
      "metadata": {
        "id": "ABAqt0Jztd5s"
      }
    },
    {
      "cell_type": "code",
      "source": [
        "TARGET = 'pm2.5'\n",
        "DROP_COLS = ['No']\n",
        "\n",
        "df = train.dropna(subset=[TARGET]).copy()\n",
        "test = test.copy()\n",
        "for c in DROP_COLS:\n",
        "    if c in df.columns: df.drop(columns=c, inplace=True)\n",
        "    if c in test.columns: test.drop(columns=c, inplace=True)\n",
        "\n",
        "df['datetime'] = pd.to_datetime(df['datetime']); test['datetime'] = pd.to_datetime(test['datetime'])\n",
        "df = df.sort_values('datetime').reset_index(drop=True)\n",
        "test = test.sort_values('datetime').reset_index(drop=True)\n",
        "\n",
        "def add_time_features(frame):\n",
        "    f = frame.copy()\n",
        "    f['hour'] = f['datetime'].dt.hour\n",
        "    f['dayofweek'] = f['datetime'].dt.dayofweek\n",
        "    f['month'] = f['datetime'].dt.month\n",
        "    f['hour_sin'] = np.sin(2*np.pi*f['hour']/24)\n",
        "    f['hour_cos'] = np.cos(2*np.pi*f['hour']/24)\n",
        "    f['dow_sin']  = np.sin(2*np.pi*f['dayofweek']/7)\n",
        "    f['dow_cos']  = np.cos(2*np.pi*f['dayofweek']/7)\n",
        "    f['mon_sin']  = np.sin(2*np.pi*(f['month']-1)/12)\n",
        "    f['mon_cos']  = np.cos(2*np.pi*(f['month']-1)/12)\n",
        "    return f\n",
        "\n",
        "df = add_time_features(df); test = add_time_features(test)\n",
        "\n",
        "FEATURES = [c for c in df.columns if c not in ['pm2.5','datetime'] and not c.endswith(('_ma6','_ma12','_ma24'))]\n",
        "len(FEATURES), FEATURES[:10]"
      ],
      "metadata": {
        "id": "u2n29Ge1tami",
        "colab": {
          "base_uri": "https://localhost:8080/"
        },
        "outputId": "2ef79390-fc4b-4cb2-fa9d-92cc50bda00c"
      },
      "execution_count": 39,
      "outputs": [
        {
          "output_type": "execute_result",
          "data": {
            "text/plain": [
              "(18,\n",
              " ['DEWP',\n",
              "  'TEMP',\n",
              "  'PRES',\n",
              "  'Iws',\n",
              "  'Is',\n",
              "  'Ir',\n",
              "  'cbwd_NW',\n",
              "  'cbwd_SE',\n",
              "  'cbwd_cv',\n",
              "  'hour'])"
            ]
          },
          "metadata": {},
          "execution_count": 39
        }
      ]
    },
    {
      "cell_type": "markdown",
      "source": [
        "# Separate features and target\n",
        "\n",
        "- Feel free to trop any non-essential columns like that you think might not contribute to modeling."
      ],
      "metadata": {
        "id": "YKndkdRuty1C"
      }
    },
    {
      "cell_type": "code",
      "source": [
        "fixed_cut = pd.Timestamp('2013-01-01 00:00:00')\n",
        "if df['datetime'].min() < fixed_cut < df['datetime'].max():\n",
        "    VAL_START = fixed_cut\n",
        "else:\n",
        "    VAL_START = df['datetime'].quantile(0.85)\n",
        "\n",
        "train_df = df[df['datetime'] < VAL_START].copy()\n",
        "val_df   = df[df['datetime'] >= VAL_START].copy()\n",
        "\n",
        "print(\"Split at:\", VAL_START, \"| Train rows:\", len(train_df), \"Val rows:\", len(val_df))\n",
        "print(\"Date range:\", df['datetime'].min(), \"→\", df['datetime'].max())\n",
        "\n",
        "train_medians = train_df[FEATURES].median()\n",
        "train_df[FEATURES] = train_df[FEATURES].fillna(train_medians)\n",
        "val_df[FEATURES]   = val_df[FEATURES].fillna(train_medians)\n",
        "\n",
        "scaler = StandardScaler()\n",
        "train_X = scaler.fit_transform(train_df[FEATURES].values)\n",
        "val_X   = scaler.transform(val_df[FEATURES].values)\n",
        "\n",
        "train_y = train_df[TARGET].values\n",
        "val_y   = val_df[TARGET].values\n",
        "train_time = train_df['datetime'].values\n",
        "val_time   = val_df['datetime'].values\n",
        "\n",
        "train_X.shape, val_X.shape"
      ],
      "metadata": {
        "id": "QETLRAo_tvQH",
        "colab": {
          "base_uri": "https://localhost:8080/"
        },
        "outputId": "916aee0f-2168-4e90-d25d-940ec737821e"
      },
      "execution_count": 40,
      "outputs": [
        {
          "output_type": "stream",
          "name": "stdout",
          "text": [
            "Split at: 2013-01-01 00:00:00 | Train rows: 24418 Val rows: 4337\n",
            "Date range: 2010-01-02 00:00:00 → 2013-07-02 03:00:00\n"
          ]
        },
        {
          "output_type": "execute_result",
          "data": {
            "text/plain": [
              "((24418, 18), (4337, 18))"
            ]
          },
          "metadata": {},
          "execution_count": 40
        }
      ]
    },
    {
      "cell_type": "code",
      "source": [
        "WINDOW = 60\n",
        "HORIZON = 0\n",
        "print(\"Using WINDOW =\", WINDOW)\n",
        "\n",
        "def make_sequences(X, y, window=60, horizon=0):\n",
        "    Xs, ys = [], []\n",
        "    for i in range(window, len(X) - horizon):\n",
        "        Xs.append(X[i-window:i, :])\n",
        "        ys.append(y[i + horizon])\n",
        "    return np.array(Xs), np.array(ys)\n",
        "\n",
        "X_tr, y_tr = make_sequences(train_X, train_y, window=WINDOW, horizon=HORIZON)\n",
        "X_va, y_va = make_sequences(val_X,   val_y,   window=WINDOW, horizon=HORIZON)\n",
        "X_tr.shape, X_va.shape\n"
      ],
      "metadata": {
        "colab": {
          "base_uri": "https://localhost:8080/"
        },
        "id": "DDTI6G-pg3ts",
        "outputId": "b0d2b744-3438-412a-e317-3add30677f90"
      },
      "execution_count": 41,
      "outputs": [
        {
          "output_type": "stream",
          "name": "stdout",
          "text": [
            "Using WINDOW = 60\n"
          ]
        },
        {
          "output_type": "execute_result",
          "data": {
            "text/plain": [
              "((24358, 60, 18), (4277, 60, 18))"
            ]
          },
          "metadata": {},
          "execution_count": 41
        }
      ]
    },
    {
      "cell_type": "markdown",
      "source": [
        "# Build model\n",
        "\n",
        "Below is a simple LSTM model. Your task is to experiment with different parameters like, numbers of layers, units, activation functions, and optimizers, etc to get the best performing model. Experiment with other optimizers (e.g., SGD) or hyperparameters to improve performance."
      ],
      "metadata": {
        "id": "d488782wuR2W"
      }
    },
    {
      "cell_type": "code",
      "source": [
        "inputs = keras.Input(shape=(X_tr.shape[1], X_tr.shape[2]))\n",
        "x = layers.Masking(mask_value=0.0)(inputs)\n",
        "x = layers.LSTM(128, return_sequences=True)(x)\n",
        "x = layers.Dropout(0.15)(x)\n",
        "x = layers.LSTM(64)(x)\n",
        "x = layers.Dropout(0.15)(x)\n",
        "x = layers.Dense(64, activation='relu')(x)\n",
        "outputs = layers.Dense(1)(x)\n",
        "\n",
        "model = keras.Model(inputs, outputs)\n",
        "model.compile(optimizer=keras.optimizers.Adam(learning_rate=1e-3), loss='mse')\n",
        "\n",
        "callbacks = [\n",
        "    keras.callbacks.EarlyStopping(patience=5, restore_best_weights=True, monitor='val_loss'),\n",
        "    keras.callbacks.ReduceLROnPlateau(patience=3, factor=0.5, verbose=1),\n",
        "]\n"
      ],
      "metadata": {
        "id": "mfx2LPHxq5fG"
      },
      "execution_count": 42,
      "outputs": []
    },
    {
      "cell_type": "code",
      "source": [
        "EPOCHS = 50\n",
        "BATCH_SIZE = 256\n",
        "history = model.fit(\n",
        "    X_tr, y_tr,\n",
        "    validation_data=(X_va, y_va),\n",
        "    epochs=EPOCHS,\n",
        "    batch_size=BATCH_SIZE,\n",
        "    verbose=2,\n",
        "    callbacks=callbacks\n",
        ")\n",
        "\n",
        "val_pred = model.predict(X_va, verbose=0).squeeze()\n"
      ],
      "metadata": {
        "colab": {
          "base_uri": "https://localhost:8080/"
        },
        "id": "uM0Xuq7XvdTZ",
        "outputId": "df862c18-8189-4aa9-c87b-28ce0c1098b4"
      },
      "execution_count": 43,
      "outputs": [
        {
          "output_type": "stream",
          "name": "stdout",
          "text": [
            "Epoch 1/50\n",
            "96/96 - 57s - 594ms/step - loss: 13799.1006 - val_loss: 16259.3799 - learning_rate: 1.0000e-03\n",
            "Epoch 2/50\n",
            "96/96 - 79s - 821ms/step - loss: 8342.8457 - val_loss: 12804.4795 - learning_rate: 1.0000e-03\n",
            "Epoch 3/50\n",
            "96/96 - 87s - 904ms/step - loss: 7998.3672 - val_loss: 12835.0098 - learning_rate: 1.0000e-03\n",
            "Epoch 4/50\n",
            "96/96 - 56s - 581ms/step - loss: 8016.6064 - val_loss: 12850.0625 - learning_rate: 1.0000e-03\n",
            "Epoch 5/50\n",
            "96/96 - 51s - 535ms/step - loss: 7849.7051 - val_loss: 11413.8555 - learning_rate: 1.0000e-03\n",
            "Epoch 6/50\n",
            "96/96 - 51s - 536ms/step - loss: 5510.7461 - val_loss: 8516.4756 - learning_rate: 1.0000e-03\n",
            "Epoch 7/50\n",
            "96/96 - 84s - 874ms/step - loss: 4387.9111 - val_loss: 7458.0977 - learning_rate: 1.0000e-03\n",
            "Epoch 8/50\n",
            "96/96 - 53s - 548ms/step - loss: 3807.5032 - val_loss: 7716.2012 - learning_rate: 1.0000e-03\n",
            "Epoch 9/50\n",
            "96/96 - 53s - 550ms/step - loss: 3420.9836 - val_loss: 6283.3076 - learning_rate: 1.0000e-03\n",
            "Epoch 10/50\n",
            "96/96 - 82s - 851ms/step - loss: 3137.9836 - val_loss: 6156.2500 - learning_rate: 1.0000e-03\n",
            "Epoch 11/50\n",
            "96/96 - 82s - 853ms/step - loss: 2822.4636 - val_loss: 7125.0122 - learning_rate: 1.0000e-03\n",
            "Epoch 12/50\n",
            "96/96 - 83s - 867ms/step - loss: 2700.4832 - val_loss: 7115.2622 - learning_rate: 1.0000e-03\n",
            "Epoch 13/50\n",
            "\n",
            "Epoch 13: ReduceLROnPlateau reducing learning rate to 0.0005000000237487257.\n",
            "96/96 - 80s - 829ms/step - loss: 3031.1589 - val_loss: 8427.1387 - learning_rate: 1.0000e-03\n",
            "Epoch 14/50\n",
            "96/96 - 83s - 868ms/step - loss: 3241.7295 - val_loss: 6724.0913 - learning_rate: 5.0000e-04\n",
            "Epoch 15/50\n",
            "96/96 - 81s - 844ms/step - loss: 2555.6255 - val_loss: 6223.0049 - learning_rate: 5.0000e-04\n"
          ]
        }
      ]
    },
    {
      "cell_type": "code",
      "source": [
        "val_rmse = sqrt(mean_squared_error(y_va, val_pred))\n",
        "print(f\"\\nValidation RMSE: {val_rmse}\")"
      ],
      "metadata": {
        "colab": {
          "base_uri": "https://localhost:8080/"
        },
        "id": "D4lZmAPXmY_v",
        "outputId": "024027eb-bb0c-4017-ac24-f6c775dd2ee3"
      },
      "execution_count": 44,
      "outputs": [
        {
          "output_type": "stream",
          "name": "stdout",
          "text": [
            "\n",
            "Validation RMSE: 78.46177402925387\n"
          ]
        }
      ]
    },
    {
      "cell_type": "code",
      "source": [
        "plt.figure(figsize=(9, 5))\n",
        "plt.plot(history.history['loss'], label='Train Loss')\n",
        "if 'val_loss' in history.history:\n",
        "    plt.plot(history.history['val_loss'], label='Val Loss')\n",
        "plt.title('Loss vs Epochs')\n",
        "plt.xlabel('Epoch')\n",
        "plt.ylabel('Loss (MSE)')\n",
        "plt.legend()\n",
        "plt.tight_layout()\n",
        "plt.show()"
      ],
      "metadata": {
        "colab": {
          "base_uri": "https://localhost:8080/",
          "height": 507
        },
        "id": "M9Cvg5hEpBiy",
        "outputId": "a0003e49-8ba8-4a7d-d308-c9118bc15afa"
      },
      "execution_count": 45,
      "outputs": [
        {
          "output_type": "display_data",
          "data": {
            "text/plain": [
              "<Figure size 900x500 with 1 Axes>"
            ],
            "image/png": "[encoded data removed]"
          },
          "metadata": {}
        }
      ]
    },
    {
      "cell_type": "code",
      "source": [
        "\n",
        "# ===== TEST SEQUENCES (match WINDOW) =====\n",
        "full = pd.concat([df[['datetime'] + FEATURES], test[['datetime'] + FEATURES]], ignore_index=True).sort_values('datetime')\n",
        "full_X = scaler.transform(full[FEATURES].values)\n",
        "idx_map = {t: i for i, t in enumerate(full['datetime'].values)}\n",
        "\n",
        "def make_test_sequences(full_X, full_time, end_times, window=60):\n",
        "    Xs, valid_times = [], []\n",
        "    for t in end_times:\n",
        "        i = idx_map.get(t, None)\n",
        "        if i is None or i < window:\n",
        "            continue\n",
        "        Xs.append(full_X[i-window:i, :])\n",
        "        valid_times.append(t)\n",
        "    return np.array(Xs), np.array(valid_times)\n",
        "\n",
        "X_te, te_times = make_test_sequences(full_X, full['datetime'].values, test['datetime'].values, window=WINDOW)\n",
        "X_te.shape, len(te_times)\n"
      ],
      "metadata": {
        "colab": {
          "base_uri": "https://localhost:8080/"
        },
        "id": "WVR2drlazzN5",
        "outputId": "b46d9b3e-2ca0-4d9a-c91f-8f661d29addf"
      },
      "execution_count": 49,
      "outputs": [
        {
          "output_type": "execute_result",
          "data": {
            "text/plain": [
              "((13148, 60, 18), 13148)"
            ]
          },
          "metadata": {},
          "execution_count": 49
        }
      ]
    },
    {
      "cell_type": "code",
      "source": [
        "# Test predictions aligned to EXACT test order\n",
        "test_pred = model.predict(X_te, verbose=0).squeeze()\n",
        "pred_series = pd.Series(test_pred, index=pd.to_datetime(te_times))\n",
        "ordered_pred = pred_series.reindex(pd.to_datetime(test['datetime'])).values\n",
        "\n",
        "# light clipping\n",
        "ordered_pred = np.clip(ordered_pred, 0, 1000)\n",
        "\n",
        "# exact Kaggle format\n",
        "try:\n",
        "    row_id = test[\"datetime\"].dt.strftime(\"%Y-%m-%d %-H:00:00\")\n",
        "except Exception:\n",
        "    row_id = test[\"datetime\"].dt.strftime(\"%Y-%m-%d %#H:00:00\")\n",
        "\n",
        "submission = pd.DataFrame({\"row ID\": row_id, \"pm2.5\": ordered_pred})\n",
        "out_path = \"submission/submission.csv\"\n",
        "submission.to_csv(out_path, index=False)\n",
        "print(\"Saved:\", out_path, submission.shape)\n",
        "submission.head()"
      ],
      "metadata": {
        "colab": {
          "base_uri": "https://localhost:8080/",
          "height": 223
        },
        "id": "VrsMUwRLz1os",
        "outputId": "d858d845-11d3-437d-8713-fc6dd66caeb4"
      },
      "execution_count": 52,
      "outputs": [
        {
          "output_type": "stream",
          "name": "stdout",
          "text": [
            "Saved: submission/submission.csv (13148, 2)\n"
          ]
        },
        {
          "output_type": "execute_result",
          "data": {
            "text/plain": [
              "               row ID      pm2.5\n",
              "0  2013-07-02 4:00:00  52.196259\n",
              "1  2013-07-02 5:00:00  49.587437\n",
              "2  2013-07-02 6:00:00  46.074764\n",
              "3  2013-07-02 7:00:00  43.267544\n",
              "4  2013-07-02 8:00:00  39.860012"
            ],
            "text/html": [
              "\n",
              "  <div id=\"df-760ec887-21da-4735-b4e5-d7145061b197\" class=\"colab-df-container\">\n",
              "    <div>\n",
              "<style scoped>\n",
              "    .dataframe tbody tr th:only-of-type {\n",
              "        vertical-align: middle;\n",
              "    }\n",
              "\n",
              "    .dataframe tbody tr th {\n",
              "        vertical-align: top;\n",
              "    }\n",
              "\n",
              "    .dataframe thead th {\n",
              "        text-align: right;\n",
              "    }\n",
              "</style>\n",
              "<table border=\"1\" class=\"dataframe\">\n",
              "  <thead>\n",
              "    <tr style=\"text-align: right;\">\n",
              "      <th></th>\n",
              "      <th>row ID</th>\n",
              "      <th>pm2.5</th>\n",
              "    </tr>\n",
              "  </thead>\n",
              "  <tbody>\n",
              "    <tr>\n",
              "      <th>0</th>\n",
              "      <td>2013-07-02 4:00:00</td>\n",
              "      <td>52.196259</td>\n",
              "    </tr>\n",
              "    <tr>\n",
              "      <th>1</th>\n",
              "      <td>2013-07-02 5:00:00</td>\n",
              "      <td>49.587437</td>\n",
              "    </tr>\n",
              "    <tr>\n",
              "      <th>2</th>\n",
              "      <td>2013-07-02 6:00:00</td>\n",
              "      <td>46.074764</td>\n",
              "    </tr>\n",
              "    <tr>\n",
              "      <th>3</th>\n",
              "      <td>2013-07-02 7:00:00</td>\n",
              "      <td>43.267544</td>\n",
              "    </tr>\n",
              "    <tr>\n",
              "      <th>4</th>\n",
              "      <td>2013-07-02 8:00:00</td>\n",
              "      <td>39.860012</td>\n",
              "    </tr>\n",
              "  </tbody>\n",
              "</table>\n",
              "</div>\n",
              "    <div class=\"colab-df-buttons\">\n",
              "\n",
              "  <div class=\"colab-df-container\">\n",
              "    <button class=\"colab-df-convert\" onclick=\"convertToInteractive('df-760ec887-21da-4735-b4e5-d7145061b197')\"\n",
              "            title=\"Convert this dataframe to an interactive table.\"\n",
              "            style=\"display:none;\">\n",
              "\n",
              "  <svg xmlns=\"http://www.w3.org/2000/svg\" height=\"24px\" viewBox=\"0 -960 960 960\">\n",
              "    <path d=\"M120-120v-720h720v720H120Zm60-500h600v-160H180v160Zm220 220h160v-160H400v160Zm0 220h160v-160H400v160ZM180-400h160v-160H180v160Zm440 0h160v-160H620v160ZM180-180h160v-160H180v160Zm440 0h160v-160H620v160Z\"/>\n",
              "  </svg>\n",
              "    </button>\n",
              "\n",
              "  <style>\n",
              "    .colab-df-container {\n",
              "      display:flex;\n",
              "      gap: 12px;\n",
              "    }\n",
              "\n",
              "    .colab-df-convert {\n",
              "      background-color: #E8F0FE;\n",
              "      border: none;\n",
              "      border-radius: 50%;\n",
              "      cursor: pointer;\n",
              "      display: none;\n",
              "      fill: #1967D2;\n",
              "      height: 32px;\n",
              "      padding: 0 0 0 0;\n",
              "      width: 32px;\n",
              "    }\n",
              "\n",
              "    .colab-df-convert:hover {\n",
              "      background-color: #E2EBFA;\n",
              "      box-shadow: 0px 1px 2px rgba(60, 64, 67, 0.3), 0px 1px 3px 1px rgba(60, 64, 67, 0.15);\n",
              "      fill: #174EA6;\n",
              "    }\n",
              "\n",
              "    .colab-df-buttons div {\n",
              "      margin-bottom: 4px;\n",
              "    }\n",
              "\n",
              "    [theme=dark] .colab-df-convert {\n",
              "      background-color: #3B4455;\n",
              "      fill: #D2E3FC;\n",
              "    }\n",
              "\n",
              "    [theme=dark] .colab-df-convert:hover {\n",
              "      background-color: #434B5C;\n",
              "      box-shadow: 0px 1px 3px 1px rgba(0, 0, 0, 0.15);\n",
              "      filter: drop-shadow(0px 1px 2px rgba(0, 0, 0, 0.3));\n",
              "      fill: #FFFFFF;\n",
              "    }\n",
              "  </style>\n",
              "\n",
              "    <script>\n",
              "      const buttonEl =\n",
              "        document.querySelector('#df-760ec887-21da-4735-b4e5-d7145061b197 button.colab-df-convert');\n",
              "      buttonEl.style.display =\n",
              "        google.colab.kernel.accessAllowed ? 'block' : 'none';\n",
              "\n",
              "      async function convertToInteractive(key) {\n",
              "        const element = document.querySelector('#df-760ec887-21da-4735-b4e5-d7145061b197');\n",
              "        const dataTable =\n",
              "          await google.colab.kernel.invokeFunction('convertToInteractive',\n",
              "                                                    [key], {});\n",
              "        if (!dataTable) return;\n",
              "\n",
              "        const docLinkHtml = 'Like what you see? Visit the ' +\n",
              "          '<a target=\"_blank\" href=https://colab.research.google.com/notebooks/data_table.ipynb>data table notebook</a>'\n",
              "          + ' to learn more about interactive tables.';\n",
              "        element.innerHTML = '';\n",
              "        dataTable['output_type'] = 'display_data';\n",
              "        await google.colab.output.renderOutput(dataTable, element);\n",
              "        const docLink = document.createElement('div');\n",
              "        docLink.innerHTML = docLinkHtml;\n",
              "        element.appendChild(docLink);\n",
              "      }\n",
              "    </script>\n",
              "  </div>\n",
              "\n",
              "\n",
              "    <div id=\"df-482a0fe2-7967-4eeb-aa1f-1e92a5196836\">\n",
              "      <button class=\"colab-df-quickchart\" onclick=\"quickchart('df-482a0fe2-7967-4eeb-aa1f-1e92a5196836')\"\n",
              "                title=\"Suggest charts\"\n",
              "                style=\"display:none;\">\n",
              "\n",
              "<svg xmlns=\"http://www.w3.org/2000/svg\" height=\"24px\"viewBox=\"0 0 24 24\"\n",
              "     width=\"24px\">\n",
              "    <g>\n",
              "        <path d=\"M19 3H5c-1.1 0-2 .9-2 2v14c0 1.1.9 2 2 2h14c1.1 0 2-.9 2-2V5c0-1.1-.9-2-2-2zM9 17H7v-7h2v7zm4 0h-2V7h2v10zm4 0h-2v-4h2v4z\"/>\n",
              "    </g>\n",
              "</svg>\n",
              "      </button>\n",
              "\n",
              "<style>\n",
              "  .colab-df-quickchart {\n",
              "      --bg-color: #E8F0FE;\n",
              "      --fill-color: #1967D2;\n",
              "      --hover-bg-color: #E2EBFA;\n",
              "      --hover-fill-color: #174EA6;\n",
              "      --disabled-fill-color: #AAA;\n",
              "      --disabled-bg-color: #DDD;\n",
              "  }\n",
              "\n",
              "  [theme=dark] .colab-df-quickchart {\n",
              "      --bg-color: #3B4455;\n",
              "      --fill-color: #D2E3FC;\n",
              "      --hover-bg-color: #434B5C;\n",
              "      --hover-fill-color: #FFFFFF;\n",
              "      --disabled-bg-color: #3B4455;\n",
              "      --disabled-fill-color: #666;\n",
              "  }\n",
              "\n",
              "  .colab-df-quickchart {\n",
              "    background-color: var(--bg-color);\n",
              "    border: none;\n",
              "    border-radius: 50%;\n",
              "    cursor: pointer;\n",
              "    display: none;\n",
              "    fill: var(--fill-color);\n",
              "    height: 32px;\n",
              "    padding: 0;\n",
              "    width: 32px;\n",
              "  }\n",
              "\n",
              "  .colab-df-quickchart:hover {\n",
              "    background-color: var(--hover-bg-color);\n",
              "    box-shadow: 0 1px 2px rgba(60, 64, 67, 0.3), 0 1px 3px 1px rgba(60, 64, 67, 0.15);\n",
              "    fill: var(--button-hover-fill-color);\n",
              "  }\n",
              "\n",
              "  .colab-df-quickchart-complete:disabled,\n",
              "  .colab-df-quickchart-complete:disabled:hover {\n",
              "    background-color: var(--disabled-bg-color);\n",
              "    fill: var(--disabled-fill-color);\n",
              "    box-shadow: none;\n",
              "  }\n",
              "\n",
              "  .colab-df-spinner {\n",
              "    border: 2px solid var(--fill-color);\n",
              "    border-color: transparent;\n",
              "    border-bottom-color: var(--fill-color);\n",
              "    animation:\n",
              "      spin 1s steps(1) infinite;\n",
              "  }\n",
              "\n",
              "  @keyframes spin {\n",
              "    0% {\n",
              "      border-color: transparent;\n",
              "      border-bottom-color: var(--fill-color);\n",
              "      border-left-color: var(--fill-color);\n",
              "    }\n",
              "    20% {\n",
              "      border-color: transparent;\n",
              "      border-left-color: var(--fill-color);\n",
              "      border-top-color: var(--fill-color);\n",
              "    }\n",
              "    30% {\n",
              "      border-color: transparent;\n",
              "      border-left-color: var(--fill-color);\n",
              "      border-top-color: var(--fill-color);\n",
              "      border-right-color: var(--fill-color);\n",
              "    }\n",
              "    40% {\n",
              "      border-color: transparent;\n",
              "      border-right-color: var(--fill-color);\n",
              "      border-top-color: var(--fill-color);\n",
              "    }\n",
              "    60% {\n",
              "      border-color: transparent;\n",
              "      border-right-color: var(--fill-color);\n",
              "    }\n",
              "    80% {\n",
              "      border-color: transparent;\n",
              "      border-right-color: var(--fill-color);\n",
              "      border-bottom-color: var(--fill-color);\n",
              "    }\n",
              "    90% {\n",
              "      border-color: transparent;\n",
              "      border-bottom-color: var(--fill-color);\n",
              "    }\n",
              "  }\n",
              "</style>\n",
              "\n",
              "      <script>\n",
              "        async function quickchart(key) {\n",
              "          const quickchartButtonEl =\n",
              "            document.querySelector('#' + key + ' button');\n",
              "          quickchartButtonEl.disabled = true;  // To prevent multiple clicks.\n",
              "          quickchartButtonEl.classList.add('colab-df-spinner');\n",
              "          try {\n",
              "            const charts = await google.colab.kernel.invokeFunction(\n",
              "                'suggestCharts', [key], {});\n",
              "          } catch (error) {\n",
              "            console.error('Error during call to suggestCharts:', error);\n",
              "          }\n",
              "          quickchartButtonEl.classList.remove('colab-df-spinner');\n",
              "          quickchartButtonEl.classList.add('colab-df-quickchart-complete');\n",
              "        }\n",
              "        (() => {\n",
              "          let quickchartButtonEl =\n",
              "            document.querySelector('#df-482a0fe2-7967-4eeb-aa1f-1e92a5196836 button');\n",
              "          quickchartButtonEl.style.display =\n",
              "            google.colab.kernel.accessAllowed ? 'block' : 'none';\n",
              "        })();\n",
              "      </script>\n",
              "    </div>\n",
              "\n",
              "    </div>\n",
              "  </div>\n"
            ],
            "application/vnd.google.colaboratory.intrinsic+json": {
              "type": "dataframe",
              "variable_name": "submission",
              "summary": "{\n  \"name\": \"submission\",\n  \"rows\": 13148,\n  \"fields\": [\n    {\n      \"column\": \"row ID\",\n      \"properties\": {\n        \"dtype\": \"object\",\n        \"num_unique_values\": 13148,\n        \"samples\": [\n          \"2013-11-23 9:00:00\",\n          \"2014-02-26 1:00:00\",\n          \"2013-11-23 15:00:00\"\n        ],\n        \"semantic_type\": \"\",\n        \"description\": \"\"\n      }\n    },\n    {\n      \"column\": \"pm2.5\",\n      \"properties\": {\n        \"dtype\": \"float32\",\n        \"num_unique_values\": 13142,\n        \"samples\": [\n          129.3759002685547,\n          109.05914306640625,\n          148.3804473876953\n        ],\n        \"semantic_type\": \"\",\n        \"description\": \"\"\n      }\n    }\n  ]\n}"
            }
          },
          "metadata": {},
          "execution_count": 52
        }
      ]
    },
    {
      "cell_type": "code",
      "source": [],
      "metadata": {
        "id": "C-SkPtnuzxjj"
      },
      "execution_count": null,
      "outputs": []
    }
  ]
}